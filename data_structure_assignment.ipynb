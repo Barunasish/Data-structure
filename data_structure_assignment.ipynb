{
  "nbformat": 4,
  "nbformat_minor": 0,
  "metadata": {
    "colab": {
      "provenance": []
    },
    "kernelspec": {
      "name": "python3",
      "display_name": "Python 3"
    },
    "language_info": {
      "name": "python"
    }
  },
  "cells": [
    {
      "cell_type": "code",
      "execution_count": null,
      "metadata": {
        "id": "4VSLF5wkNuUB"
      },
      "outputs": [],
      "source": [
        "'''\n",
        "1: What are data structures, and why are they important?\n",
        "\n",
        "->  Data structures are specialised forms used to organise, store, and access data sets.\n",
        "Data structures help to organise data so that it is easier to access, alter, and navigate.Well-organised data structures make code easier to read and understand.\n",
        "Python has a number of built-in data structures, including lists, tuples, sets, and dictionaries, each having a specific purpose and allowing for efficient data manipulation.\n",
        "\n",
        "'''"
      ]
    },
    {
      "cell_type": "code",
      "source": [
        "## 2:  Explain the difference between mutable and immutable data types with examples\n",
        "\n",
        "# Mutable Data types: Mutable data types allow for changes to their content after they are formed. Examples include lists, dictionaries, and sets.\n",
        "# list as mutable data type\n",
        "\n",
        "\n",
        "lis1 = [\"Barunasish\", 1, 2, 3, \"Ds course\"]\n",
        "lis1.append(\"DS Assignment\")\n",
        "print(lis1)"
      ],
      "metadata": {
        "colab": {
          "base_uri": "https://localhost:8080/"
        },
        "id": "W75mHpEjzTZi",
        "outputId": "6e3a9a7a-71a3-4875-abd0-18ca3a9722c2"
      },
      "execution_count": 2,
      "outputs": [
        {
          "output_type": "stream",
          "name": "stdout",
          "text": [
            "['Barunasish', 1, 2, 3, 'Ds course', 'DS Assignment']\n"
          ]
        }
      ]
    },
    {
      "cell_type": "code",
      "source": [
        "#Answer continued\n",
        "# Immutable data :Immutable data types do not allow changes to their content after creation. Examples include tuples\n",
        "\n",
        "tup1 = (\"Barunasish\", 1, 2, 3, \"Ds course\")\n",
        "tup1[0] = \"Incorrect name\""
      ],
      "metadata": {
        "colab": {
          "base_uri": "https://localhost:8080/",
          "height": 176
        },
        "id": "Wj9-iic70f6j",
        "outputId": "fbb943b1-1436-4b38-ec3e-513ab367a434"
      },
      "execution_count": 3,
      "outputs": [
        {
          "output_type": "error",
          "ename": "TypeError",
          "evalue": "'tuple' object does not support item assignment",
          "traceback": [
            "\u001b[0;31m---------------------------------------------------------------------------\u001b[0m",
            "\u001b[0;31mTypeError\u001b[0m                                 Traceback (most recent call last)",
            "\u001b[0;32m<ipython-input-3-1781941915>\u001b[0m in \u001b[0;36m<cell line: 0>\u001b[0;34m()\u001b[0m\n\u001b[1;32m      3\u001b[0m \u001b[0;34m\u001b[0m\u001b[0m\n\u001b[1;32m      4\u001b[0m \u001b[0mtup1\u001b[0m \u001b[0;34m=\u001b[0m \u001b[0;34m(\u001b[0m\u001b[0;34m\"Barunasish\"\u001b[0m\u001b[0;34m,\u001b[0m \u001b[0;36m1\u001b[0m\u001b[0;34m,\u001b[0m \u001b[0;36m2\u001b[0m\u001b[0;34m,\u001b[0m \u001b[0;36m3\u001b[0m\u001b[0;34m,\u001b[0m \u001b[0;34m\"Ds course\"\u001b[0m\u001b[0;34m)\u001b[0m\u001b[0;34m\u001b[0m\u001b[0;34m\u001b[0m\u001b[0m\n\u001b[0;32m----> 5\u001b[0;31m \u001b[0mtup1\u001b[0m\u001b[0;34m[\u001b[0m\u001b[0;36m0\u001b[0m\u001b[0;34m]\u001b[0m \u001b[0;34m=\u001b[0m \u001b[0;34m\"Incorrect name\"\u001b[0m\u001b[0;34m\u001b[0m\u001b[0;34m\u001b[0m\u001b[0m\n\u001b[0m",
            "\u001b[0;31mTypeError\u001b[0m: 'tuple' object does not support item assignment"
          ]
        }
      ]
    },
    {
      "cell_type": "code",
      "source": [
        "'''\n",
        "3.What are the main differences between lists and tuples in Python?\n",
        "\n",
        "-> Lists are mutable, which means that the elements can be altered after they are created.\n",
        "A list can have things added, removed, or modified. Tuples, on the other hand, are immutable, meaning that their elements cannot be modified after creation.\n",
        "Tuples are faster and more memory economical than lists since they are immutable.This is because Python can optimise tuples while ensuring that their size and content do not change.\n",
        "Lists are ideal for holding groupings of objects that may need to be changed, such as carts for purchases or tasks to be performed.\n",
        "Tuples are best suited for describing fixed collections of objects such as database records, configuration settings, or locations.\n",
        "\n",
        "\n",
        "4. Describe how dictionaries store data.\n",
        "\n",
        "-> Python's dictionaries store data as key-value pairs. Each key in a dictionary is unique and immutable, whereas values can be any data type and replicated.\n",
        "This structure enables efficient data retrieval by using the key to get the related value.\n",
        "\n",
        "5. Why might you use a set instead of a list in Python?\n",
        "\n",
        "-> Sets are designed for quick membership testing which helps in  verifying if an element is in a set takes substantially less time than checking if it is in a list.\n",
        "This is because sets store data in hash tables, which allow for near-constant-time lookups.Sets can perform mathematical set operations such as union, intersection, and difference.\n",
        "These procedures can be used to find common elements between sets, combine sets, or identify elements that are unique to a single set.\n",
        "\n",
        "\n",
        "6. What is a string in Python, and how is it different from a list?\n",
        "\n",
        "-> A string is a succession of characters. A list is a succession of values that may be characters, integers, or even another list.\n",
        "\n",
        "\n",
        "\n",
        "7.  How do tuples ensure data integrity in Python?\n",
        "\n",
        "-> Tuples in Python maintain data integrity primarily because they are immutable.Once a tuple has been constructed, its elements cannot be changed, added, or removed.\n",
        "This attribute is critical for ensuring data consistency and reliability.\n",
        "\n",
        "8. What is a hash table, and how does it relate to dictionaries in Python?\n",
        "\n",
        "-> The fundamental data structure that underlies Python dictionaries is hash tables, which allow for efficient storage and retrieval of key-value pairs.\n",
        "Dictionaries in Python are implemented via hash tables. When a key-value pair is added to a dictionary, the key is passed through a hash function, which produces a hash value that specifies the index in the underlying hash table where the value will be kept.\n",
        "This is why dictionary keys must be immutable, with unchanging hash values.\n",
        "\n",
        "9. Can lists contain different data types in Python?\n",
        "\n",
        "-> Yes, Python lists can have components of many data types.This implies you may use a single list to store numbers, strings, floats, booleans, and even additional lists or dictionaries.\n",
        "\n",
        "\n",
        "10. Explain why strings are immutable in Python.\n",
        "\n",
        "-> Strings in Python are immutable,which means that once they are formed,they cannot have their value altered. In reality, each action that seems to change a string produces a new string object containing the altered value.\n",
        "\n",
        "\n",
        "11. What advantages do dictionaries offer over lists for certain tasks?\n",
        "\n",
        "-> Any form of data may be stored in a list. On the other hand, values in the dictionary can be any form of data, and keys can be any type of immutable data.For ordered tasks like sorting, lists operate more quickly.\n",
        "\n",
        "\n",
        "12.  Describe a scenario where using a tuple would be preferable over a list.\n",
        "\n",
        "-> Tuples cannot be changed. As a result, they are mostly utilised to store information that isn't updated often. When you don't want data to change, any action can save it in a tuple.\n",
        "If you want the data in your collection to be read-only, unchangeable, and always the same, tuples are a fantastic tool to utilise.\n",
        "\n",
        "\n",
        "\n",
        "13. How do sets handle duplicate values in Python?\n",
        "\n",
        "-> Only unique elements are intended to be stored in Python sets. A duplicate value is simply ignored and just one instance of the value is kept when you try to add it to a set.\n",
        "Since sets are unordered collections of distinct elements, this behaviour is essential to their nature.\n",
        "\n",
        "'''"
      ],
      "metadata": {
        "id": "ghZH0PBN1bI5"
      },
      "execution_count": null,
      "outputs": []
    },
    {
      "cell_type": "code",
      "source": [
        "##14: How does the “in” keyword work differently for lists and dictionaries?\n",
        "\n",
        "my_list = [\"Barunasish\", 1, 2, 3, \"Pwskills\"]\n",
        "print(\"Barunasish\" in my_list) # retriving the value present within the list\n",
        "print(\"Ds course\" in my_list)"
      ],
      "metadata": {
        "colab": {
          "base_uri": "https://localhost:8080/"
        },
        "id": "QBEFH4Bf_U-G",
        "outputId": "7aa465ea-547f-4a32-988f-6c78b49c40c0"
      },
      "execution_count": 9,
      "outputs": [
        {
          "output_type": "stream",
          "name": "stdout",
          "text": [
            "True\n",
            "False\n"
          ]
        }
      ]
    },
    {
      "cell_type": "code",
      "source": [
        "my_dic = {\"Ds course\":1, \"Analytics\":2, \"Barunasish\":3}\n",
        "print(\"Ds course\" in my_dic) #retriving the key value to get the optput\n",
        "print(\"Pwskills\" in my_dic)"
      ],
      "metadata": {
        "colab": {
          "base_uri": "https://localhost:8080/"
        },
        "id": "IxJ6Dicp_1_9",
        "outputId": "8d0869db-ac72-4e03-fb5a-8ebbd8a41bc1"
      },
      "execution_count": 10,
      "outputs": [
        {
          "output_type": "stream",
          "name": "stdout",
          "text": [
            "True\n",
            "False\n"
          ]
        }
      ]
    },
    {
      "cell_type": "code",
      "source": [
        "'''\n",
        "\n",
        "15: Can you modify the elements of a tuple? Explain why or why not?\n",
        "\n",
        "Ans: No, after a tuple has been generated, it cannot have its elements changed directly. Since tuples are immutable data structures, once they are defined, their contents cannot be altered, added to, or deleted.\n",
        "'''"
      ],
      "metadata": {
        "id": "G9lbHxai_9pa"
      },
      "execution_count": null,
      "outputs": []
    },
    {
      "cell_type": "code",
      "source": [
        "## 16. What is a nested dictionary, and give an example of its use case?\n",
        "\n",
        "# Ans: In Python, a nested dictionary is one with dictionaries as values. This enables you to design hierarchical or multi-level data structures, with each dictionary able to hold other dictionaries as values.\n",
        "\n",
        "# Example\n",
        "pw_skills = {\n",
        "    \"data\": {\n",
        "        \"course1\": {\"name\": \"Data Science\", \"Fee\": \"30000\"},\n",
        "        \"course2\": {\"name\": \"Data Analytics\", \"Fee\": \"20000\"}\n",
        "    },\n",
        "    \"finance\": {\n",
        "        \"course3\": {\"name\": \"Tax\", \"Fee\": \"10000\"},\n",
        "        \"course4\": {\"name\": \"Marketing\", \"Fee\": \"40000\"}\n",
        "    }\n",
        "}\n",
        "\n",
        "print(pw_skills[\"data\"][\"course2\"][\"name\"])\n",
        "print(pw_skills[\"finance\"][\"course4\"][\"Fee\"])"
      ],
      "metadata": {
        "colab": {
          "base_uri": "https://localhost:8080/"
        },
        "id": "oSLG72GFAzB-",
        "outputId": "c6b063bb-1782-422b-b9e4-a3d375dfb86d"
      },
      "execution_count": 13,
      "outputs": [
        {
          "output_type": "stream",
          "name": "stdout",
          "text": [
            "Data Analytics\n",
            "40000\n"
          ]
        }
      ]
    },
    {
      "cell_type": "code",
      "source": [
        "'''\n",
        "17. Describe the time complexity of accessing elements in a dictionary\n",
        "\n",
        "-> Accessing an entry in a dictionary normally has an average time complexity of O(1), which means it takes the same amount of time no matter how big the vocabulary is. This is due to the usage of a hash table, which enables direct lookup of items based on their keys. In the worst-case situation, if a hash function results in numerous collisions, the time complexity might fall below O(n), where n is the number of items in the dictionary.\n",
        "\n",
        "\n",
        "18. In what situations are lists preferred over dictionaries.\n",
        "\n",
        "-> Lists are the best option if you want an ordered collection, such as a series of user activities. However, dictionaries come in very handy when you need to quickly seek up information, such as linking usernames to user data.\n",
        "\n",
        "19. Why are dictionaries considered unordered, and how does that affect data retrieval?\n",
        "\n",
        "-> Because dictionaries do not preserve any intrinsic order of the entries according to when they were added, they are known as unordered collections of things.\n",
        "\n",
        "20. Explain the difference between a list and a dictionary in terms of data retrieval.\n",
        "\n",
        "-> Lists are retrieved using an index, whereas dictionaries are retrieved using a key. This implies that in a dictionary, you use the associated key to locate the related value, whereas in a list, you use the element's integer position (beginning at 0) to access it.\n",
        "\n",
        "'''"
      ],
      "metadata": {
        "id": "bwYsddCJA57-"
      },
      "execution_count": null,
      "outputs": []
    },
    {
      "cell_type": "code",
      "source": [
        "# Programing questions"
      ],
      "metadata": {
        "id": "3b3NCjRHHiDf"
      },
      "execution_count": 15,
      "outputs": []
    },
    {
      "cell_type": "code",
      "source": [
        "##1: Write a code to create a string with your name and print it\n",
        "\n",
        "name = input(\" Enter the name of the Candidate: \")\n",
        "print(\"The name of the candidate is: \",name)"
      ],
      "metadata": {
        "colab": {
          "base_uri": "https://localhost:8080/"
        },
        "id": "LfqnQCIMHqgD",
        "outputId": "19f8ffbe-aae5-4423-8550-1bdbbd4a5486"
      },
      "execution_count": 17,
      "outputs": [
        {
          "output_type": "stream",
          "name": "stdout",
          "text": [
            " Enter the name of the Candidate: Barunasish ghosh\n",
            "The name of the candidate is:  Barunasish ghosh\n"
          ]
        }
      ]
    },
    {
      "cell_type": "code",
      "source": [
        "name1 = \"Barunasish Ghosh\"\n",
        "print(name1)"
      ],
      "metadata": {
        "colab": {
          "base_uri": "https://localhost:8080/"
        },
        "id": "BaC_bzpLINsR",
        "outputId": "ca48452d-3f66-4abe-c820-1e951d67fdc2"
      },
      "execution_count": 18,
      "outputs": [
        {
          "output_type": "stream",
          "name": "stdout",
          "text": [
            "Barunasish Ghosh\n"
          ]
        }
      ]
    },
    {
      "cell_type": "code",
      "source": [
        "##2 : Write a code to find the length of the string \"Hello World\"\n",
        "\n",
        "name2 = \"Hello World\"\n",
        "print(\"The length of the String is: \", len(name2))"
      ],
      "metadata": {
        "colab": {
          "base_uri": "https://localhost:8080/"
        },
        "id": "IqLIGIUBIdrl",
        "outputId": "5362fe7d-0f48-4683-e76f-543d45e60449"
      },
      "execution_count": 19,
      "outputs": [
        {
          "output_type": "stream",
          "name": "stdout",
          "text": [
            "The length of the String is:  11\n"
          ]
        }
      ]
    },
    {
      "cell_type": "code",
      "source": [
        "##3: Write a code to slice the first 3 characters from the string \"Python Programming\"\n",
        "\n",
        "name3 = \"Python Programming\"\n",
        "print(\"Sliced String = \", name3[:3] )"
      ],
      "metadata": {
        "colab": {
          "base_uri": "https://localhost:8080/"
        },
        "id": "Elgi_hMqI3c3",
        "outputId": "0fe968d2-6088-48e9-b3f5-81530a3105af"
      },
      "execution_count": 22,
      "outputs": [
        {
          "output_type": "stream",
          "name": "stdout",
          "text": [
            "Sliced String =  Pyt\n"
          ]
        }
      ]
    },
    {
      "cell_type": "code",
      "source": [
        "##4 : Write a code to convert the string \"hello\" to uppercase\n",
        "\n",
        "name4 = \"hello\"\n",
        "print(\"Upper Case word = \", name4.upper())"
      ],
      "metadata": {
        "colab": {
          "base_uri": "https://localhost:8080/"
        },
        "id": "lsPIPOnPJbvd",
        "outputId": "099b3540-cf32-4287-d237-2e66aa275079"
      },
      "execution_count": 24,
      "outputs": [
        {
          "output_type": "stream",
          "name": "stdout",
          "text": [
            "Upper Case word =  HELLO\n"
          ]
        }
      ]
    },
    {
      "cell_type": "code",
      "source": [
        "##5 : Write a code to replace the word \"apple\" with \"orange\" in the string \"I like apple\"\n",
        "\n",
        "name5 = \"I like apple\"\n",
        "print(\" The reolaced sentence : \", name5.replace(\"apple\", \"orange\"))"
      ],
      "metadata": {
        "colab": {
          "base_uri": "https://localhost:8080/"
        },
        "id": "qN_9UeNjKIJh",
        "outputId": "21e0e879-eed1-4b8d-b554-48614ae3c5d0"
      },
      "execution_count": 28,
      "outputs": [
        {
          "output_type": "stream",
          "name": "stdout",
          "text": [
            " The reolaced sentence :  I like orange\n"
          ]
        }
      ]
    },
    {
      "cell_type": "code",
      "source": [
        "##6: Write a code to create a list with numbers 1 to 5 and print it\n",
        "lis = list(range(1, 6))\n",
        "print(\"The required list is: \", lis)"
      ],
      "metadata": {
        "colab": {
          "base_uri": "https://localhost:8080/"
        },
        "id": "cIrWrgAXK8DD",
        "outputId": "9e5faa66-552c-40f0-93cd-28069b01e49b"
      },
      "execution_count": 33,
      "outputs": [
        {
          "output_type": "stream",
          "name": "stdout",
          "text": [
            "The required list is:  [1, 2, 3, 4, 5]\n"
          ]
        }
      ]
    },
    {
      "cell_type": "code",
      "source": [
        "##7: Write a code to append the number 10 to the list [1, 2, 3, 4].\n",
        "\n",
        "lis2 = [1, 2, 3, 4]\n",
        "lis2.append(10)\n",
        "print(\" The appended list is: \", lis2)"
      ],
      "metadata": {
        "colab": {
          "base_uri": "https://localhost:8080/"
        },
        "id": "Zsz2EQHCMIlm",
        "outputId": "3f2029e9-239a-4b87-b7ac-b3e9146db778"
      },
      "execution_count": 36,
      "outputs": [
        {
          "output_type": "stream",
          "name": "stdout",
          "text": [
            " The appended list is:  [1, 2, 3, 4, 10]\n"
          ]
        }
      ]
    },
    {
      "cell_type": "code",
      "source": [
        "##8: Write a code to remove the number 3 from the list [1, 2, 3, 4, 5]\n",
        "\n",
        "lis3 = [1, 2, 3, 4, 5]\n",
        "lis3.remove(3)\n",
        "print(\"The new list after removal\", lis3)"
      ],
      "metadata": {
        "colab": {
          "base_uri": "https://localhost:8080/"
        },
        "id": "zYHQteYkMv_h",
        "outputId": "8c09ca4a-469a-411d-8937-01318ad82f33"
      },
      "execution_count": 37,
      "outputs": [
        {
          "output_type": "stream",
          "name": "stdout",
          "text": [
            "The new list after removal [1, 2, 4, 5]\n"
          ]
        }
      ]
    },
    {
      "cell_type": "code",
      "source": [
        "##9: Write a code to access the second element in the list ['a', 'b', 'c', 'd']\n",
        "\n",
        "lis4 = ['a', 'b', 'c', 'd']\n",
        "print(\" The wanted item from the list is: \", lis4[1])"
      ],
      "metadata": {
        "colab": {
          "base_uri": "https://localhost:8080/"
        },
        "id": "7cbCErwoNceT",
        "outputId": "9f08a163-1397-4feb-b9b5-908eb124c52b"
      },
      "execution_count": 38,
      "outputs": [
        {
          "output_type": "stream",
          "name": "stdout",
          "text": [
            " The wanted item from the list is:  b\n"
          ]
        }
      ]
    },
    {
      "cell_type": "code",
      "source": [
        "##10: Write a code to reverse the list [10, 20, 30, 40, 50]\n",
        "\n",
        "lis5 = [10, 20, 30, 40, 50]\n",
        "lis5.reverse()\n",
        "print(\"The reversed list is : \", lis5)\n"
      ],
      "metadata": {
        "colab": {
          "base_uri": "https://localhost:8080/"
        },
        "id": "jCQkYlfSN48Y",
        "outputId": "2300ffcf-8b09-4118-a3e5-f8c1dd850c08"
      },
      "execution_count": 40,
      "outputs": [
        {
          "output_type": "stream",
          "name": "stdout",
          "text": [
            "The reversed list is :  [50, 40, 30, 20, 10]\n"
          ]
        }
      ]
    },
    {
      "cell_type": "code",
      "source": [
        "##11: Write a code to create a tuple with the elements 100, 200, 300 and print it\n",
        "\n",
        "tup = (100, 200, 300)\n",
        "print(\"The type of the data created: \",type(tup) ,tup)"
      ],
      "metadata": {
        "colab": {
          "base_uri": "https://localhost:8080/"
        },
        "id": "6LNvtv6UOpto",
        "outputId": "6b79ebc2-592e-40f9-c74f-158d7a950bc8"
      },
      "execution_count": 47,
      "outputs": [
        {
          "output_type": "stream",
          "name": "stdout",
          "text": [
            "The type of the data created:  <class 'tuple'> (100, 200, 300)\n"
          ]
        }
      ]
    },
    {
      "cell_type": "code",
      "source": [
        "##12: Write a code to access the second-to-last element of the tuple ('red', 'green', 'blue', 'yellow').\n",
        "\n",
        "tup2 = ('red', 'green', 'blue', 'yellow')\n",
        "print(\"The Second last element of the tuple is: \", tup2[-2])"
      ],
      "metadata": {
        "colab": {
          "base_uri": "https://localhost:8080/"
        },
        "id": "z0mJuPJrPRCY",
        "outputId": "af184c6d-ce02-498b-deca-272dc7b2de48"
      },
      "execution_count": 48,
      "outputs": [
        {
          "output_type": "stream",
          "name": "stdout",
          "text": [
            "The Second last element of the tuple is:  blue\n"
          ]
        }
      ]
    },
    {
      "cell_type": "code",
      "source": [
        "##13: Write a code to find the minimum number in the tuple (10, 20, 5, 15)\n",
        "\n",
        "tup3 = (10, 20, 5, 15)\n",
        "minimum_number = min(tup3)\n",
        "print(\"The minimum number in the tuple: \", minimum_number)"
      ],
      "metadata": {
        "colab": {
          "base_uri": "https://localhost:8080/"
        },
        "id": "nYlWDVfUQGA-",
        "outputId": "a33040b0-8fdf-4f70-8218-8bd74ef2e701"
      },
      "execution_count": 53,
      "outputs": [
        {
          "output_type": "stream",
          "name": "stdout",
          "text": [
            "The minimum number in the tuple:  5\n"
          ]
        }
      ]
    },
    {
      "cell_type": "code",
      "source": [
        "##14: Write a code to find the index of the element \"cat\" in the tuple ('dog', 'cat', 'rabbit').\n",
        "\n",
        "tup4 = ('dog', 'cat', 'rabbit')\n",
        "index_of_cat = tup4.index('cat')\n",
        "print(\" The index of the cat is: \", index_of_cat)"
      ],
      "metadata": {
        "colab": {
          "base_uri": "https://localhost:8080/"
        },
        "id": "I8a_EXDjQjf9",
        "outputId": "37274f4c-d992-4b78-f4c4-a255863caeef"
      },
      "execution_count": 54,
      "outputs": [
        {
          "output_type": "stream",
          "name": "stdout",
          "text": [
            " The index of the cat is:  1\n"
          ]
        }
      ]
    },
    {
      "cell_type": "code",
      "source": [
        "##15: Write a code to create a tuple containing three different fruits and check if \"kiwi\" is in it.\n",
        "\n",
        "tup5 = ('Orange', 'mango', 'apple')\n",
        "print(\"The created tuple is: \",tup5 , type(tup5))\n",
        "\"kiwi\" in tup5\n"
      ],
      "metadata": {
        "colab": {
          "base_uri": "https://localhost:8080/"
        },
        "id": "PAYIFWYPRn0c",
        "outputId": "8f3f11a7-4e9e-4128-cf1f-1e2962a78c8a"
      },
      "execution_count": 60,
      "outputs": [
        {
          "output_type": "stream",
          "name": "stdout",
          "text": [
            "The created tuple is:  ('Orange', 'mango', 'apple') <class 'tuple'>\n"
          ]
        },
        {
          "output_type": "execute_result",
          "data": {
            "text/plain": [
              "False"
            ]
          },
          "metadata": {},
          "execution_count": 60
        }
      ]
    },
    {
      "cell_type": "code",
      "source": [
        "##16. Write a code to create a set with the elements 'a', 'b', 'c' and print it.\n",
        "\n",
        "set1 = {'a', 'b', 'c'}\n",
        "print(\"The created set is:\", set1, type(set1))"
      ],
      "metadata": {
        "colab": {
          "base_uri": "https://localhost:8080/"
        },
        "id": "ik7tNGTcSeoN",
        "outputId": "d30d38fd-c116-41cb-bac9-7cb4b22a9d1f"
      },
      "execution_count": 61,
      "outputs": [
        {
          "output_type": "stream",
          "name": "stdout",
          "text": [
            "The created set is: {'a', 'c', 'b'} <class 'set'>\n"
          ]
        }
      ]
    },
    {
      "cell_type": "code",
      "source": [
        "##17: Write a code to clear all elements from the set {1, 2, 3, 4, 5}.\n",
        "\n",
        "set2 = {1, 2, 3, 4, 5}\n",
        "print(\"The old set is :\", set2)\n",
        "print(\"The new set is after clearing: \", set2.clear())"
      ],
      "metadata": {
        "colab": {
          "base_uri": "https://localhost:8080/"
        },
        "id": "B2ElkYTmVDyv",
        "outputId": "f7d1b7f7-6c97-40e5-f3b7-b8feaf995687"
      },
      "execution_count": 65,
      "outputs": [
        {
          "output_type": "stream",
          "name": "stdout",
          "text": [
            "The old set is : {1, 2, 3, 4, 5}\n",
            "The new set is after clearing:  None\n"
          ]
        }
      ]
    },
    {
      "cell_type": "code",
      "source": [
        "##18: Write a code to remove the element 4 from the set {1, 2, 3, 4}\n",
        "\n",
        "set3 = {1, 2, 3, 4}\n",
        "set3.remove(4)\n",
        "print(\" The set after removing 4: \", set3)"
      ],
      "metadata": {
        "colab": {
          "base_uri": "https://localhost:8080/"
        },
        "id": "kIaR8MiGVjMR",
        "outputId": "c5bd1e7f-5206-475d-a8ca-7eb4d333088e"
      },
      "execution_count": 67,
      "outputs": [
        {
          "output_type": "stream",
          "name": "stdout",
          "text": [
            " The set after removing 4:  {1, 2, 3}\n"
          ]
        }
      ]
    },
    {
      "cell_type": "code",
      "source": [
        "##19: Write a code to find the union of two sets {1, 2, 3} and {3, 4, 5}\n",
        "\n",
        "a = {1, 2, 3}\n",
        "b = {3, 4, 5}\n",
        "Union_set = a.union(b)\n",
        "print(\"The Union Set is: \",Union_set)"
      ],
      "metadata": {
        "colab": {
          "base_uri": "https://localhost:8080/"
        },
        "id": "jobo0LxfWY8C",
        "outputId": "dcb1a1c5-afa2-48e2-d3dc-58537cc74cd6"
      },
      "execution_count": 70,
      "outputs": [
        {
          "output_type": "stream",
          "name": "stdout",
          "text": [
            "The Union Set is:  {1, 2, 3, 4, 5}\n"
          ]
        }
      ]
    },
    {
      "cell_type": "code",
      "source": [
        "##20. Write a code to find the intersection of two sets {1, 2, 3} and {2, 3, 4}.\n",
        "\n",
        "a1 = {1, 2, 3}\n",
        "b1 = {2, 3, 4}\n",
        "Interset_set = a1.intersection(b1)\n",
        "print(\"The intersecyed set is: \", Interset_set)"
      ],
      "metadata": {
        "colab": {
          "base_uri": "https://localhost:8080/"
        },
        "id": "JO3KM-L2W9hl",
        "outputId": "753ad1e3-cd43-49b5-d42a-99d9d2bc0b7a"
      },
      "execution_count": 71,
      "outputs": [
        {
          "output_type": "stream",
          "name": "stdout",
          "text": [
            "The intersecyed set is:  {2, 3}\n"
          ]
        }
      ]
    },
    {
      "cell_type": "code",
      "source": [
        "##21: Write a code to create a dictionary with the keys \"name\", \"age\", and \"city\", and print it\n",
        "\n",
        "dic1 = {\"name\": \"Barunasish Ghosh\", \"age\": 28, \"city\": \"Kolkata\"}\n",
        "print(\"The formed dictionary is: \", dic1, type(dic1))"
      ],
      "metadata": {
        "colab": {
          "base_uri": "https://localhost:8080/"
        },
        "id": "P6wc73t5XvgN",
        "outputId": "153cef85-bf69-4ddd-a7d3-95b474f4f80d"
      },
      "execution_count": 73,
      "outputs": [
        {
          "output_type": "stream",
          "name": "stdout",
          "text": [
            "The formed dictionary is:  {'name': 'Barunasish Ghosh', 'age': 28, 'city': 'Kolkata'} <class 'dict'>\n"
          ]
        }
      ]
    },
    {
      "cell_type": "code",
      "source": [
        "##22: Write a code to add a new key-value pair \"country\": \"USA\" to the dictionary {'name': 'John', 'age': 25}.\n",
        "\n",
        "dic2 = {'name': 'John', 'age': 25}\n",
        "dic2[\"country\"] = \"USA\"\n",
        "print(\" The new dictionary is: \", dic2)"
      ],
      "metadata": {
        "colab": {
          "base_uri": "https://localhost:8080/"
        },
        "id": "puLqJnAAYMRZ",
        "outputId": "18d64053-f5b1-4853-8608-17de9586c00d"
      },
      "execution_count": 74,
      "outputs": [
        {
          "output_type": "stream",
          "name": "stdout",
          "text": [
            " The new dictionary is:  {'name': 'John', 'age': 25, 'country': 'USA'}\n"
          ]
        }
      ]
    },
    {
      "cell_type": "code",
      "source": [
        "##23. Write a code to access the value associated with the key \"name\" in the dictionary {'name': 'Alice', 'age': 30}\n",
        "\n",
        "dic3 = {'name': 'Alice', 'age': 30}\n",
        "print(\"The searched value is: \", dic3[\"name\"])"
      ],
      "metadata": {
        "colab": {
          "base_uri": "https://localhost:8080/"
        },
        "id": "oCeGuvwSYzPk",
        "outputId": "61620a09-22fc-4eaa-e19f-dc335308f313"
      },
      "execution_count": 75,
      "outputs": [
        {
          "output_type": "stream",
          "name": "stdout",
          "text": [
            "The searched value is:  Alice\n"
          ]
        }
      ]
    },
    {
      "cell_type": "code",
      "source": [
        "##24: Write a code to remove the key \"age\" from the dictionary {'name': 'Bob', 'age': 22, 'city': 'New York'}.\n",
        "\n",
        "dic4 = {'name': 'Bob', 'age': 22, 'city': 'New York'}\n",
        "del dic4['age']\n",
        "print(\"The new dictionary after removal: \", dic4)"
      ],
      "metadata": {
        "colab": {
          "base_uri": "https://localhost:8080/"
        },
        "id": "hKYFcjENZM3R",
        "outputId": "0f240854-ceee-44a1-8667-f98793f60230"
      },
      "execution_count": 77,
      "outputs": [
        {
          "output_type": "stream",
          "name": "stdout",
          "text": [
            "The new dictionary after removal:  {'name': 'Bob', 'city': 'New York'}\n"
          ]
        }
      ]
    },
    {
      "cell_type": "code",
      "source": [
        "##25:  Write a code to check if the key \"city\" exists in the dictionary {'name': 'Alice', 'city': 'Paris'}.\n",
        "\n",
        "dic5 = {'name': 'Alice', 'city': 'Paris'}\n",
        "if 'city' in dic5:\n",
        "  print(f\"City exists in the dictionary.\")\n",
        "else:\n",
        "    print(f\"City do not exsists in the dictionary\")"
      ],
      "metadata": {
        "colab": {
          "base_uri": "https://localhost:8080/"
        },
        "id": "K6F4myfLaPhP",
        "outputId": "0cd70117-52ce-4e76-ac89-e7f400a58489"
      },
      "execution_count": 79,
      "outputs": [
        {
          "output_type": "stream",
          "name": "stdout",
          "text": [
            "City exists in the dictionary.\n"
          ]
        }
      ]
    },
    {
      "cell_type": "code",
      "source": [
        "##26: Write a code to create a list, a tuple, and a dictionary, and print them all.\n",
        "\n",
        "lis6 = [\"Barunasish\", \"Ghosh\", 28, \"male\", 700030]\n",
        "tup6 = (1, 2, 3, 4, 5)\n",
        "dic6 = {\"Name\":\"Barunasish\", \"Title\":\"Ghosh\", \"Age\":28, \"Gender\": \"Male\", \"Pincode\":700030}\n",
        "print(\"The list created: \", lis6, type(lis6))\n",
        "print(\"The tuple created: \", tup6, type(tup6))\n",
        "print(\"The dictionary created: \", dic6, type(dic6))"
      ],
      "metadata": {
        "colab": {
          "base_uri": "https://localhost:8080/"
        },
        "id": "uQnlYgTubW6z",
        "outputId": "a1478e22-5580-459a-a56a-8c31947dd1cc"
      },
      "execution_count": 81,
      "outputs": [
        {
          "output_type": "stream",
          "name": "stdout",
          "text": [
            "The list created:  ['Barunasish', 'Ghosh', 28, 'male', 700030] <class 'list'>\n",
            "The tuple created:  (1, 2, 3, 4, 5) <class 'tuple'>\n",
            "The dictionary created:  {'Name': 'Barunasish', 'Title': 'Ghosh', 'Age': 28, 'Gender': 'Male', 'Pincode': 700030} <class 'dict'>\n"
          ]
        }
      ]
    },
    {
      "cell_type": "code",
      "source": [
        "##27:  Write a code to create a list of 5 random numbers between 1 and 100, sort it in ascending order, and print the result.(replaced)\n",
        "\n",
        "import random\n",
        "numbers = [random.randint(1, 100) for _  in range(5)]\n",
        "numbers.sort()\n",
        "print(\"The sorted numbers taken randomly: \", numbers)"
      ],
      "metadata": {
        "colab": {
          "base_uri": "https://localhost:8080/"
        },
        "id": "JckZrQpLe-Ab",
        "outputId": "4d9f75b6-5f15-4171-fad2-348dbf425609"
      },
      "execution_count": 89,
      "outputs": [
        {
          "output_type": "stream",
          "name": "stdout",
          "text": [
            "The sorted numbers taken randomly:  [3, 57, 60, 60, 70]\n"
          ]
        }
      ]
    },
    {
      "cell_type": "code",
      "source": [
        "##28. Write a code to create a list with strings and print the element at the third index.\n",
        "\n",
        "lis7 = ['Ajay', 'Bijay', 'Sanjoy', 'Barun', 'Arun', 'Charan', 'Sanchita']\n",
        "print(\"the third index element in the list is: \", lis7[3])"
      ],
      "metadata": {
        "colab": {
          "base_uri": "https://localhost:8080/"
        },
        "id": "f0fngAkJfdDV",
        "outputId": "03c6a7ab-799a-43b1-e164-1fd82893b1f3"
      },
      "execution_count": 91,
      "outputs": [
        {
          "output_type": "stream",
          "name": "stdout",
          "text": [
            "the third index element in the list is:  Barun\n"
          ]
        }
      ]
    },
    {
      "cell_type": "code",
      "source": [
        "##29: Write a code to combine two dictionaries into one and print the result.\n",
        "def combine_dictionaries(dict1, dict2):\n",
        "  combined_dict = dict1.copy()\n",
        "  combined_dict.update(dict2)\n",
        "  return combined_dict\n",
        "dictionary1 = {'a': 1, 'b': 2}\n",
        "dictionary2 = {'b': 3, 'c': 4}\n",
        "\n",
        "combined_dictionary = combine_dictionaries(dictionary1, dictionary2)\n",
        "print(combined_dictionary)"
      ],
      "metadata": {
        "colab": {
          "base_uri": "https://localhost:8080/"
        },
        "id": "4CP2KJDXhBFG",
        "outputId": "47df87fe-793a-40ce-82d9-beebb579930d"
      },
      "execution_count": 96,
      "outputs": [
        {
          "output_type": "stream",
          "name": "stdout",
          "text": [
            "{'a': 1, 'b': 3, 'c': 4}\n"
          ]
        }
      ]
    },
    {
      "cell_type": "code",
      "source": [
        "##30. Write a code to convert a list of strings into a set.\n",
        "\n",
        "string_list = [\"Barunasish\", \"Ds course\", \"Pwslikks\", \"Data structure\", \"String\"]\n",
        "set6 = {}\n",
        "for item in string_list:\n",
        "    set6[item] = None\n",
        "set6 = set(set6.keys())\n",
        "print(\"The new set formed: \", set6, type(set6))"
      ],
      "metadata": {
        "colab": {
          "base_uri": "https://localhost:8080/"
        },
        "id": "svWBBo1DiG8W",
        "outputId": "cc751149-ae63-491c-b6b1-ab744b782f40"
      },
      "execution_count": 99,
      "outputs": [
        {
          "output_type": "stream",
          "name": "stdout",
          "text": [
            "The new set formed:  {'Data structure', 'String', 'Pwslikks', 'Barunasish', 'Ds course'} <class 'set'>\n"
          ]
        }
      ]
    },
    {
      "cell_type": "code",
      "source": [],
      "metadata": {
        "id": "J14hOFRXjZ70"
      },
      "execution_count": null,
      "outputs": []
    }
  ]
}